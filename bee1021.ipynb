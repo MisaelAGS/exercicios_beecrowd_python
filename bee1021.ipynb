{
 "cells": [
  {
   "cell_type": "markdown",
   "metadata": {},
   "source": [
    "https://judge.beecrowd.com/pt/problems/view/1021"
   ]
  },
  {
   "cell_type": "code",
   "execution_count": 13,
   "metadata": {},
   "outputs": [
    {
     "name": "stdout",
     "output_type": "stream",
     "text": [
      "NOTAS:\n",
      "5 nota(s) de R$ 100.00\n",
      "1 nota(s) de R$ 50.00\n",
      "1 nota(s) de R$ 20.00\n",
      "0 nota(s) de R$ 10.00\n",
      "1 nota(s) de R$ 5.00\n",
      "0 nota(s) de R$ 2.00\n",
      "MOEDAS:\n",
      "1 moeda(s) de R$ 1.00\n",
      "1 moeda(s) de R$ 0.50\n",
      "0 moeda(s) de R$ 0.25\n",
      "2 moeda(s) de R$ 0.10\n",
      "0 moeda(s) de R$ 0.05\n",
      "3 moeda(s) de R$ 0.01\n"
     ]
    }
   ],
   "source": [
    "valor = float(input())\n",
    "valor *= 100\n",
    "qtd_notas_100 = valor // 10000\n",
    "valor = valor % 10000\n",
    "qtd_notas_50 = valor // 5000\n",
    "valor = valor % 5000\n",
    "qtd_notas_20 = valor // 2000\n",
    "valor = valor % 2000\n",
    "qtd_notas_10 = valor // 1000\n",
    "valor = valor % 1000\n",
    "qtd_notas_5 = valor // 500\n",
    "valor = valor % 500\n",
    "qtd_notas_2 = valor // 200\n",
    "valor = valor % 200\n",
    "qtd_moedas_1 = valor // 100\n",
    "valor = valor % 100\n",
    "qtd_moedas_50 = valor // 50\n",
    "valor = valor % 50\n",
    "qtd_moedas_25 = valor // 25\n",
    "valor = valor % 25\n",
    "qtd_moedas_10 = valor // 10\n",
    "valor = valor % 10\n",
    "qtd_moedas_05 = valor // 5\n",
    "valor = valor % 5\n",
    "qtd_moedas_01 = valor // 1\n",
    "print('NOTAS:')\n",
    "print(f'{int(qtd_notas_100)} nota(s) de R$ 100.00')\n",
    "print(f'{int(qtd_notas_50)} nota(s) de R$ 50.00')\n",
    "print(f'{int(qtd_notas_20)} nota(s) de R$ 20.00')\n",
    "print(f'{int(qtd_notas_10)} nota(s) de R$ 10.00')\n",
    "print(f'{int(qtd_notas_5)} nota(s) de R$ 5.00')\n",
    "print(f'{int(qtd_notas_2)} nota(s) de R$ 2.00')\n",
    "print('MOEDAS:')\n",
    "print(f'{int(qtd_moedas_1)} moeda(s) de R$ 1.00')\n",
    "print(f'{int(qtd_moedas_50)} moeda(s) de R$ 0.50')\n",
    "print(f'{int(qtd_moedas_25)} moeda(s) de R$ 0.25')\n",
    "print(f'{int(qtd_moedas_10)} moeda(s) de R$ 0.10')\n",
    "print(f'{int(qtd_moedas_05)} moeda(s) de R$ 0.05')\n",
    "print(f'{int(qtd_moedas_01)} moeda(s) de R$ 0.01')"
   ]
  }
 ],
 "metadata": {
  "kernelspec": {
   "display_name": "Python 3",
   "language": "python",
   "name": "python3"
  },
  "language_info": {
   "codemirror_mode": {
    "name": "ipython",
    "version": 3
   },
   "file_extension": ".py",
   "mimetype": "text/x-python",
   "name": "python",
   "nbconvert_exporter": "python",
   "pygments_lexer": "ipython3",
   "version": "3.12.3"
  }
 },
 "nbformat": 4,
 "nbformat_minor": 2
}
