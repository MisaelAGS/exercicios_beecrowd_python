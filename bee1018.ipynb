{
 "cells": [
  {
   "cell_type": "markdown",
   "metadata": {},
   "source": [
    "https://judge.beecrowd.com/pt/problems/view/1018"
   ]
  },
  {
   "cell_type": "code",
   "execution_count": null,
   "metadata": {},
   "outputs": [],
   "source": [
    "valor = int(input())\n",
    "qtd_notas_100 = int(valor / 100)\n",
    "qtd_notas_50 = int((valor - (qtd_notas_100 * 100)) / 50)\n",
    "qtd_notas_20 = int((valor - (qtd_notas_100 * 100) - (qtd_notas_50 * 50)) / 20)\n",
    "qtd_notas_10 = int((valor - (qtd_notas_100 * 100) - (qtd_notas_50 * 50) - (qtd_notas_20 * 20)) / 10)\n",
    "qtd_notas_5 = int((valor - (qtd_notas_100 * 100) - (qtd_notas_50 * 50) - (qtd_notas_20 * 20) - (qtd_notas_10 * 10)) / 5)\n",
    "qtd_notas_2 = int((valor - (qtd_notas_100 * 100) - (qtd_notas_50 * 50) - (qtd_notas_20 * 20) - (qtd_notas_10 * 10) - (qtd_notas_5 * 5)) / 2)\n",
    "qtd_notas_1 = int((valor - (qtd_notas_100 * 100) - (qtd_notas_50 * 50) - (qtd_notas_20 * 20) - (qtd_notas_10 * 10) - (qtd_notas_5 * 5) - (qtd_notas_2 * 2)) / 1)\n",
    "print(valor)\n",
    "print(f'{qtd_notas_100} nota(s) de R$ 100,00')\n",
    "print(f'{qtd_notas_50} nota(s) de R$ 50,00')\n",
    "print(f'{qtd_notas_20} nota(s) de R$ 20,00')\n",
    "print(f'{qtd_notas_10} nota(s) de R$ 10,00')\n",
    "print(f'{qtd_notas_5} nota(s) de R$ 5,00')\n",
    "print(f'{qtd_notas_2} nota(s) de R$ 2,00')\n",
    "print(f'{qtd_notas_1} nota(s) de R$ 1,00')"
   ]
  }
 ],
 "metadata": {
  "kernelspec": {
   "display_name": "Python 3",
   "language": "python",
   "name": "python3"
  },
  "language_info": {
   "codemirror_mode": {
    "name": "ipython",
    "version": 3
   },
   "file_extension": ".py",
   "mimetype": "text/x-python",
   "name": "python",
   "nbconvert_exporter": "python",
   "pygments_lexer": "ipython3",
   "version": "3.12.3"
  }
 },
 "nbformat": 4,
 "nbformat_minor": 2
}
