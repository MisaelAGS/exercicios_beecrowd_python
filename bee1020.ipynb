{
 "cells": [
  {
   "cell_type": "markdown",
   "metadata": {},
   "source": [
    "https://judge.beecrowd.com/pt/problems/view/1020"
   ]
  },
  {
   "cell_type": "code",
   "execution_count": null,
   "metadata": {},
   "outputs": [],
   "source": [
    "tempo = int(input())\n",
    "anos = int(tempo / 365)\n",
    "meses = int((tempo - anos * 365) / 30)\n",
    "dias = int(tempo - anos * 365 - meses * 30)\n",
    "print(f'{anos} ano (s)')\n",
    "print(f'{meses} mes (es)')\n",
    "print(f'{dias} dia (s)')"
   ]
  }
 ],
 "metadata": {
  "kernelspec": {
   "display_name": "Python 3",
   "language": "python",
   "name": "python3"
  },
  "language_info": {
   "codemirror_mode": {
    "name": "ipython",
    "version": 3
   },
   "file_extension": ".py",
   "mimetype": "text/x-python",
   "name": "python",
   "nbconvert_exporter": "python",
   "pygments_lexer": "ipython3",
   "version": "3.12.3"
  }
 },
 "nbformat": 4,
 "nbformat_minor": 2
}
