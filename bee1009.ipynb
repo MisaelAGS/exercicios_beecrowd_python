{
 "cells": [
  {
   "cell_type": "markdown",
   "metadata": {},
   "source": [
    "https://judge.beecrowd.com/pt/problems/view/1009"
   ]
  },
  {
   "cell_type": "code",
   "execution_count": null,
   "metadata": {},
   "outputs": [],
   "source": [
    "nome = input()\n",
    "salario_fixo = float(input())\n",
    "total_vendas = float(input())\n",
    "comissao = 15\n",
    "total = salario_fixo + 15 / 100 * total_vendas\n",
    "print('TOTAL = R$ {:.2f}'.format(total))"
   ]
  }
 ],
 "metadata": {
  "kernelspec": {
   "display_name": "Python 3",
   "language": "python",
   "name": "python3"
  },
  "language_info": {
   "codemirror_mode": {
    "name": "ipython",
    "version": 3
   },
   "file_extension": ".py",
   "mimetype": "text/x-python",
   "name": "python",
   "nbconvert_exporter": "python",
   "pygments_lexer": "ipython3",
   "version": "3.12.3"
  }
 },
 "nbformat": 4,
 "nbformat_minor": 2
}
