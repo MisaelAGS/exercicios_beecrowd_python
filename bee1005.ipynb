{
 "cells": [
  {
   "cell_type": "markdown",
   "metadata": {},
   "source": [
    "https://judge.beecrowd.com/pt/problems/view/1005"
   ]
  },
  {
   "cell_type": "code",
   "execution_count": 1,
   "metadata": {},
   "outputs": [
    {
     "name": "stdout",
     "output_type": "stream",
     "text": [
      "MEDIA = 6.43182\n"
     ]
    }
   ],
   "source": [
    "A = float(input())\n",
    "B = float(input())\n",
    "peso_A = 3.5\n",
    "peso_B = 7.5\n",
    "media_ponderada = (A * peso_A + B * peso_B) / (peso_A + peso_B)\n",
    "print(\"MEDIA = {:.5f}\".format(media_ponderada))"
   ]
  }
 ],
 "metadata": {
  "kernelspec": {
   "display_name": "Python 3",
   "language": "python",
   "name": "python3"
  },
  "language_info": {
   "codemirror_mode": {
    "name": "ipython",
    "version": 3
   },
   "file_extension": ".py",
   "mimetype": "text/x-python",
   "name": "python",
   "nbconvert_exporter": "python",
   "pygments_lexer": "ipython3",
   "version": "3.12.3"
  }
 },
 "nbformat": 4,
 "nbformat_minor": 2
}
