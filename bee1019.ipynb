{
 "cells": [
  {
   "cell_type": "markdown",
   "metadata": {},
   "source": [
    "https://judge.beecrowd.com/pt/problems/view/1019"
   ]
  },
  {
   "cell_type": "code",
   "execution_count": null,
   "metadata": {},
   "outputs": [],
   "source": [
    "tempo_segundos = int(input())\n",
    "segundos = 0\n",
    "tempo_minutos = 0\n",
    "minutos = 0\n",
    "horas = 0\n",
    "for i in range(tempo_segundos):\n",
    "    segundos += 1\n",
    "    if segundos == 60:\n",
    "        tempo_minutos += 1\n",
    "        segundos = 0\n",
    "for i in range(tempo_minutos):\n",
    "    minutos += 1\n",
    "    if minutos == 60:\n",
    "        horas += 1\n",
    "        minutos = 0\n",
    "print(f'{horas}:{minutos}:{segundos}')"
   ]
  }
 ],
 "metadata": {
  "kernelspec": {
   "display_name": "Python 3",
   "language": "python",
   "name": "python3"
  },
  "language_info": {
   "codemirror_mode": {
    "name": "ipython",
    "version": 3
   },
   "file_extension": ".py",
   "mimetype": "text/x-python",
   "name": "python",
   "nbconvert_exporter": "python",
   "pygments_lexer": "ipython3",
   "version": "3.12.3"
  }
 },
 "nbformat": 4,
 "nbformat_minor": 2
}
