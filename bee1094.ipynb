{
 "cells": [
  {
   "cell_type": "markdown",
   "metadata": {},
   "source": [
    "https://judge.beecrowd.com/pt/problems/view/1094"
   ]
  },
  {
   "cell_type": "code",
   "execution_count": null,
   "metadata": {},
   "outputs": [],
   "source": [
    "qtd_casos_teste = int(input())\n",
    "qtd_coelhos = 0\n",
    "qtd_ratos = 0\n",
    "qtd_sapos = 0\n",
    "\n",
    "for i in range(qtd_casos_teste):\n",
    "    qtd_cobaias, sigla_animal = map(str, input().split())\n",
    "\n",
    "    if sigla_animal == 'C':\n",
    "        qtd_coelhos += int(qtd_cobaias)\n",
    "    elif sigla_animal == 'R':\n",
    "        qtd_ratos += int(qtd_cobaias)\n",
    "    elif sigla_animal == 'S':\n",
    "        qtd_sapos += int(qtd_cobaias)\n",
    "\n",
    "qtd_cobaias = qtd_ratos + qtd_coelhos + qtd_sapos\n",
    "print(f'Total: {qtd_cobaias} cobaias')\n",
    "print(f'Total de coelhos: {qtd_coelhos}')\n",
    "print(f'Total de ratos: {qtd_ratos}')\n",
    "print(f'Total de sapos: {qtd_sapos}')\n",
    "print(f'Percentual de coelhos: {qtd_coelhos/qtd_cobaias*100:.2f} %')\n",
    "print(f'Percentual de ratos: {qtd_ratos/qtd_cobaias*100:.2f} %')\n",
    "print(f'Percentual de sapos: {qtd_sapos/qtd_cobaias*100:.2f} %')\n"
   ]
  }
 ],
 "metadata": {
  "kernelspec": {
   "display_name": "Python 3",
   "language": "python",
   "name": "python3"
  },
  "language_info": {
   "codemirror_mode": {
    "name": "ipython",
    "version": 3
   },
   "file_extension": ".py",
   "mimetype": "text/x-python",
   "name": "python",
   "nbconvert_exporter": "python",
   "pygments_lexer": "ipython3",
   "version": "3.12.3"
  }
 },
 "nbformat": 4,
 "nbformat_minor": 2
}
