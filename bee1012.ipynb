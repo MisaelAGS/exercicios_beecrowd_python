{
 "cells": [
  {
   "cell_type": "markdown",
   "metadata": {},
   "source": [
    "https://judge.beecrowd.com/pt/problems/view/1012"
   ]
  },
  {
   "cell_type": "code",
   "execution_count": null,
   "metadata": {},
   "outputs": [],
   "source": [
    "A, B, C = map(float, input().split())\n",
    "area_triangulo = A * C / 2\n",
    "area_circulo = 3.14159 * pow(C, 2)\n",
    "area_trapezio = (A + B) * C / 2\n",
    "area_quadrado = pow(B, 2)\n",
    "area_retangulo = A * B\n",
    "print(f'TRIANGULO: {area_triangulo:.3f}')\n",
    "print(f'CIRCULO: {area_circulo:.3f}')\n",
    "print(f'TRAPEZIO: {area_trapezio:.3f}')\n",
    "print(f'QUADRADO: {area_quadrado:.3f}')\n",
    "print(f'RETANGULO: {area_retangulo:.3f}')"
   ]
  }
 ],
 "metadata": {
  "kernelspec": {
   "display_name": "Python 3",
   "language": "python",
   "name": "python3"
  },
  "language_info": {
   "codemirror_mode": {
    "name": "ipython",
    "version": 3
   },
   "file_extension": ".py",
   "mimetype": "text/x-python",
   "name": "python",
   "nbconvert_exporter": "python",
   "pygments_lexer": "ipython3",
   "version": "3.12.3"
  }
 },
 "nbformat": 4,
 "nbformat_minor": 2
}
