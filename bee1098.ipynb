{
 "cells": [
  {
   "cell_type": "markdown",
   "metadata": {},
   "source": [
    "https://judge.beecrowd.com/pt/problems/view/1098"
   ]
  },
  {
   "cell_type": "code",
   "execution_count": 35,
   "metadata": {},
   "outputs": [
    {
     "name": "stdout",
     "output_type": "stream",
     "text": [
      "I=0 J=1\n",
      "I=0 J=2\n",
      "I=0 J=3\n",
      "I=0.2 J=1.2\n",
      "I=0.2 J=2.2\n",
      "I=0.2 J=3.2\n",
      "I=0.4 J=1.4\n",
      "I=0.4 J=2.4\n",
      "I=0.4 J=3.4\n",
      "I=0.6 J=1.6\n",
      "I=0.6 J=2.6\n",
      "I=0.6 J=3.6\n",
      "I=0.8 J=1.8\n",
      "I=0.8 J=2.8\n",
      "I=0.8 J=3.8\n",
      "I=1 J=2\n",
      "I=1 J=3\n",
      "I=1 J=4\n",
      "I=1.2 J=2.2\n",
      "I=1.2 J=3.2\n",
      "I=1.2 J=4.2\n",
      "I=1.4 J=2.4\n",
      "I=1.4 J=3.4\n",
      "I=1.4 J=4.4\n",
      "I=1.6 J=2.6\n",
      "I=1.6 J=3.6\n",
      "I=1.6 J=4.6\n",
      "I=1.8 J=2.8\n",
      "I=1.8 J=3.8\n",
      "I=1.8 J=4.8\n",
      "I=2.0 J=3\n",
      "I=2.0 J=4\n",
      "I=2.0 J=5\n"
     ]
    }
   ],
   "source": [
    "i = 0\n",
    "aux = 0\n",
    "while i <= 2.0:\n",
    "    j = 1\n",
    "    j += aux\n",
    "    for x in range(3):\n",
    "        # print(f'I={i:.1f} J={j:.1f}')\n",
    "        if i % 1 == 0:\n",
    "            print(f'I={int(i)}', end=\" \")\n",
    "        else:\n",
    "            print(f'I={i:.1f}', end=\" \")\n",
    "        if round(j, 1) % 1 == 0:\n",
    "            print(f'J={int(j)}')\n",
    "        else:\n",
    "            print(f'J={j:.1f}')\n",
    "        j +=1\n",
    "        j = round(j, 1)\n",
    "    i += 0.2\n",
    "    aux += 0.2"
   ]
  },
  {
   "cell_type": "code",
   "execution_count": 30,
   "metadata": {},
   "outputs": [
    {
     "data": {
      "text/plain": [
       "0.20000000000000018"
      ]
     },
     "execution_count": 30,
     "metadata": {},
     "output_type": "execute_result"
    }
   ],
   "source": [
    "4.2 - 4.2 // 1"
   ]
  }
 ],
 "metadata": {
  "kernelspec": {
   "display_name": "Python 3",
   "language": "python",
   "name": "python3"
  },
  "language_info": {
   "codemirror_mode": {
    "name": "ipython",
    "version": 3
   },
   "file_extension": ".py",
   "mimetype": "text/x-python",
   "name": "python",
   "nbconvert_exporter": "python",
   "pygments_lexer": "ipython3",
   "version": "3.12.3"
  }
 },
 "nbformat": 4,
 "nbformat_minor": 2
}
