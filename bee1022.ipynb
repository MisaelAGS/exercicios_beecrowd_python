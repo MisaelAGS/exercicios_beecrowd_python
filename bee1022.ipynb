{
 "cells": [
  {
   "cell_type": "markdown",
   "metadata": {},
   "source": [
    "https://judge.beecrowd.com/pt/problems/view/1022"
   ]
  },
  {
   "cell_type": "code",
   "execution_count": null,
   "metadata": {},
   "outputs": [],
   "source": [
    "def mdc(primeiro_numero, segundo_numero):\n",
    "    primeiro_numero = abs(primeiro_numero)\n",
    "    segundo_numero = abs(segundo_numero)\n",
    "    numeradaor = (primeiro_numero + segundo_numero + abs(primeiro_numero - segundo_numero)) / 2\n",
    "    denominador = (primeiro_numero + segundo_numero - abs(primeiro_numero - segundo_numero)) / 2\n",
    "    while True:\n",
    "        resto = numeradaor % denominador\n",
    "        if resto == 0:\n",
    "            mdc = denominador\n",
    "            break\n",
    "        numeradaor = denominador\n",
    "        denominador = resto\n",
    "    return mdc\n",
    "\n",
    "qtd_calculo = int(input())\n",
    "for i in range(qtd_calculo):\n",
    "    numerador_um, div_um, denominador_um, operador, numerador_dois, div_dois, denominador_dois = input().split()\n",
    "    numerador_um = int(numerador_um)\n",
    "    denominador_um = int(denominador_um)\n",
    "    numerador_dois = int(numerador_dois)\n",
    "    denominador_dois = int(denominador_dois)\n",
    "    if operador == '+':\n",
    "        numerador = (numerador_um * denominador_dois + numerador_dois * denominador_um) \n",
    "        denominador = (denominador_um * denominador_dois)\n",
    "    elif operador == '-':\n",
    "        numerador = (numerador_um * denominador_dois - numerador_dois * denominador_um) \n",
    "        denominador = (denominador_um * denominador_dois)   \n",
    "    elif operador == '*':\n",
    "        numerador = (numerador_um * numerador_dois) \n",
    "        denominador = (denominador_um * denominador_dois)\n",
    "    elif operador == '/':\n",
    "        numerador = (numerador_um * denominador_dois) \n",
    "        denominador = (numerador_dois * denominador_um)\n",
    "    primeiro_resultado = f'{numerador}/{denominador}'\n",
    "    maximo_divisor_comum = mdc(numerador, denominador)\n",
    "    if maximo_divisor_comum > 1:\n",
    "        numerador = int(numerador / maximo_divisor_comum)\n",
    "        denominador = int(denominador / maximo_divisor_comum)\n",
    "    segundo_resultado = f'{numerador}/{denominador}'\n",
    "    print(f'{primeiro_resultado} = {segundo_resultado}')"
   ]
  }
 ],
 "metadata": {
  "kernelspec": {
   "display_name": "Python 3",
   "language": "python",
   "name": "python3"
  },
  "language_info": {
   "codemirror_mode": {
    "name": "ipython",
    "version": 3
   },
   "file_extension": ".py",
   "mimetype": "text/x-python",
   "name": "python",
   "nbconvert_exporter": "python",
   "pygments_lexer": "ipython3",
   "version": "3.12.3"
  }
 },
 "nbformat": 4,
 "nbformat_minor": 2
}
